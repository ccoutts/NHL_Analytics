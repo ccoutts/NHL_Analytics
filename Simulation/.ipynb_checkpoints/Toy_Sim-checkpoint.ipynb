{
 "cells": [
  {
   "cell_type": "code",
   "execution_count": 109,
   "metadata": {},
   "outputs": [],
   "source": [
    "# A simple monte carlo simulation of an NHL season. W/L is determined by fixed probabilities rather than a fit distribution\n",
    "import pandas as pd\n",
    "import numpy as np\n",
    "from numpy import random\n",
    "import matplotlib.pyplot as plt\n"
   ]
  },
  {
   "cell_type": "code",
   "execution_count": 2,
   "metadata": {},
   "outputs": [],
   "source": [
    "# Organize data in a way that might be helpful and initialize some things\n",
    "\n",
    "df = pd.read_csv(\"NHL_20132014.csv\")           #This has game data and is mostly what is used in the toy simulation\n",
    "df2 = pd.read_csv(\"NHL_20132014_processed.csv\")\n",
    "\n",
    "# For each team name give them a W-L-T initial array. For overtime to happen win+loss must sum to less than 1.\n",
    "\n",
    "prob = [0.5, 0.4, 0.55]  # Probablility of [Home win, home loss, home OT win]\n",
    "\n",
    "\n",
    "# Lets just mess around with some brute forcing. Inelegant but I can't do anything else until the internet is back.\n",
    "\n",
    "teams = ['ANA', 'BOS', 'BUF', 'CAR', 'CBJ', 'CGY', 'CHI', 'COL', 'DAL', 'DET', 'EDM', 'FLA', 'LAK', 'MIN', 'MTL', 'NJD', 'NSH', 'NYI', 'NYR', 'OTT', 'PHI', 'PHX', 'PIT', 'SJS', 'STL', 'TBL', 'TOR', 'VAN', 'WPG', 'WSH']"
   ]
  },
  {
   "cell_type": "code",
   "execution_count": 16,
   "metadata": {},
   "outputs": [],
   "source": [
    "# Single season. Here we make a function which simulates a single season. Right now,\n",
    "# we input prob of winning by hand. This is fixed for all teams. Later we will add in a function to this guy which \n",
    "# Later we will add in a function to this guy which uses poissonto find goal distribtion scored by each team in a given matchup. Odds of winning will be found from this \n",
    "def season(schedule, one_hot, prob):\n",
    "    home, away = schedule['home'], schedule['away']\n",
    "    teams = one_hot.columns[0:-2]\n",
    "    games = len(schedule)\n",
    "    win = prob[0]\n",
    "    loss = prob[1]\n",
    "    win_OT = prob[2]\n",
    "    team_no = len(teams)\n",
    "    score = np.zeros((len(teams), 3)) \n",
    "    \n",
    "    for i in range(0, games):\n",
    "        roll = random.rand()\n",
    "        \n",
    "        home_index = one_hot.columns.get_loc(home[i])    # Using get_loc on a dataframe is much faster!\n",
    "        away_index = one_hot.columns.get_loc(away[i])    # Factor of 6-8 decrease in computation time. \n",
    "        \n",
    "        \n",
    "        \n",
    "        #for j in range(0, team_no):      # This little piece here matches the name to teams_label so that\n",
    "        #    if home[i] == teams[j]:         # I can extract an index and use that index for teams \n",
    "        #        home_index = j                    # NOTE: This will not work if teams and teams_label are different in their order                 \n",
    "        #    if away[i] == teams[j]:         # or number. Fix this once you've got internet but for now it works \n",
    "        #        away_index = j           # NOTE: This might be too slow. Try alternatives\n",
    "    \n",
    "        if roll <= win:\n",
    "            score[home_index] = score[home_index]+[1,0,0]                  # Home regulation win\n",
    "            score[away_index] = score[away_index]+[0,1,0]\n",
    "        elif roll > win and roll <= win+loss:\n",
    "            score[home_index] = score[home_index]+[0,1,0]                   # Away regulation win\n",
    "            score[away_index] = score[away_index]+[1,0,0]\n",
    "        else:\n",
    "            roll_OT = random.rand()\n",
    "            if roll_OT <= win_OT:\n",
    "                score[home_index] = score[home_index]+[1,0,0]                  # Home OT win\n",
    "                score[away_index] = score[away_index]+[0,0,1]\n",
    "            else: \n",
    "                score[home_index] = score[home_index]+[0,0,1]                   # Away OT win\n",
    "                score[away_index] = score[away_index]+[1,0,0]\n",
    "    return score"
   ]
  },
  {
   "cell_type": "code",
   "execution_count": null,
   "metadata": {},
   "outputs": [],
   "source": []
  },
  {
   "cell_type": "code",
   "execution_count": 30,
   "metadata": {},
   "outputs": [],
   "source": [
    "# Calculated and display points\n",
    "def sum_points(score):\n",
    "    pts = np.zeros(len(score))\n",
    "    j = 0\n",
    "    for i in score:\n",
    "        pts[j] = sum(i*[2,0,1])\n",
    "        j = j+1\n",
    "    return pts"
   ]
  },
  {
   "cell_type": "code",
   "execution_count": 17,
   "metadata": {},
   "outputs": [],
   "source": [
    "# Run the simulation one time\n",
    "test = season(df, df2, prob)\n",
    "\n",
    "# This block is a sanity check. Every team should have played 82 games. If not, something is wrong\n",
    "for i in range(0, len(test)):\n",
    "    total = sum(test[i])\n",
    "    if total != 82:\n",
    "        print('FALSE. GO BACK AND WORK OUT THE PROBLEM')        \n",
    "        "
   ]
  },
  {
   "cell_type": "code",
   "execution_count": 18,
   "metadata": {},
   "outputs": [
    {
     "name": "stdout",
     "output_type": "stream",
     "text": [
      "ANA 80.0\n",
      "BOS 96.0\n",
      "BUF 87.0\n",
      "CAR 81.0\n",
      "CBJ 77.0\n",
      "CGY 88.0\n",
      "CHI 78.0\n",
      "COL 101.0\n",
      "DAL 83.0\n",
      "DET 77.0\n",
      "EDM 79.0\n",
      "FLA 90.0\n",
      "LAK 96.0\n",
      "MIN 77.0\n",
      "MTL 79.0\n",
      "NJD 83.0\n",
      "NSH 87.0\n",
      "NYI 77.0\n",
      "NYR 84.0\n",
      "OTT 91.0\n",
      "PHI 97.0\n",
      "PHX 99.0\n",
      "PIT 78.0\n",
      "SJS 89.0\n",
      "STL 94.0\n",
      "TBL 88.0\n",
      "TOR 93.0\n",
      "VAN 83.0\n",
      "WPG 112.0\n",
      "WSH 90.0\n"
     ]
    }
   ],
   "source": [
    "# Get the points and print something nice\n",
    "pts = points(test)\n",
    "for i in range(0, len(teams)):\n",
    "    print(teams[i], pts[i])"
   ]
  },
  {
   "cell_type": "code",
   "execution_count": 152,
   "metadata": {},
   "outputs": [
    {
     "name": "stdout",
     "output_type": "stream",
     "text": [
      "Wall time: 5.66 s\n"
     ]
    }
   ],
   "source": [
    "%%time\n",
    "# Now that we have a single season working we want to monte carlo this and find the mean and std of points across \n",
    "# something like 10,000 simulations. Test cases: 10,000 is a bit time consuming. Oh no! Add in a timer to work out\n",
    "# improvements\n",
    "\n",
    "n = 100\n",
    "result_matrix = np.zeros([n,len(teams)]) # Create an n x #teams matrix. Each season results will stored on a single row of this matrix \n",
    "\n",
    "for i in range(0,n): \n",
    "    score = season(df, df2, prob)\n",
    "    result_matrix[i] = sum_points(score)\n",
    "\n",
    "mean_points = np.zeros([1, len(teams)])    \n",
    "std_points = np.zeros([1, len(teams)])\n",
    "\n",
    "\n",
    "for i in range(0, len(teams)):\n",
    "    mean_points[:,i] = np.transpose(np.mean(result_matrix[:,i])) # Do a transposition to make the array make more sense in my head\n",
    "    std_points[:,i] = np.transpose(np.std(result_matrix[:,i]))\n",
    "#print(mean_points)\n",
    "#print(std_points)\n",
    "#print(np.mean(mean_points), np.mean(std_points))   "
   ]
  },
  {
   "cell_type": "code",
   "execution_count": 153,
   "metadata": {},
   "outputs": [
    {
     "data": {
      "text/plain": [
       "(70.0, 110.0)"
      ]
     },
     "execution_count": 153,
     "metadata": {},
     "output_type": "execute_result"
    },
    {
     "data": {
      "image/png": "[encoded data removed]",
      "text/plain": [
       "<Figure size 432x288 with 1 Axes>"
      ]
     },
     "metadata": {
      "needs_background": "light"
     },
     "output_type": "display_data"
    }
   ],
   "source": [
    "# Test out the convergence of the Monte Carlo by looking at some histograms.\n",
    "# By increasing n, the distribution of points tightens up among the league mean. In the case where all teams have\n",
    "# equal probability of winning, this is what we expect. Note: std. of points for a single team seems to increase slightly\n",
    "# with n but saturates around 9. By looking at the histogram, we see that std. across teams tightens up dramatically with n. \n",
    "fig = plt.figure()\n",
    "plt.hist(np.transpose(mean_points), 15, ec = 'black')\n",
    "plt.ylabel('# teams')\n",
    "plt.xlabel('points')\n",
    "plt.xlim([70,110])"
   ]
  },
  {
   "cell_type": "code",
   "execution_count": 154,
   "metadata": {},
   "outputs": [],
   "source": [
    "# Now that we've got some testing out of the way, lets make a monte carlo function\n",
    "\n",
    "def monte_carlo(n, schedule, one_hot, num_teams):\n",
    "    result_matrix = np.zeros([n,len(teams)]) # Create an n x #teams matrix. Each season results will stored on a single row of this matrix \n",
    "\n",
    "    for i in range(0,n): \n",
    "        score = season(df, df2, prob)\n",
    "        result_matrix[i] = sum_points(score)\n",
    "\n",
    "    mean_points = np.zeros([1, len(teams)])    \n",
    "    std_points = np.zeros([1, len(teams)])\n",
    "\n",
    "\n",
    "    for i in range(0, len(teams)):\n",
    "        mean_points[:,i] = np.transpose(np.mean(result_matrix[:,i])) # Do a transposition to make the array make more sense in my head\n",
    "        std_points[:,i] = np.transpose(np.std(result_matrix[:,i]))\n",
    "    return mean_points, std_points\n",
    "    "
   ]
  },
  {
   "cell_type": "code",
   "execution_count": null,
   "metadata": {},
   "outputs": [],
   "source": [
    "n = 3\n",
    "monte_carlo(n, schedule)"
   ]
  }
 ],
 "metadata": {
  "kernelspec": {
   "display_name": "Python 3",
   "language": "python",
   "name": "python3"
  },
  "language_info": {
   "codemirror_mode": {
    "name": "ipython",
    "version": 3
   },
   "file_extension": ".py",
   "mimetype": "text/x-python",
   "name": "python",
   "nbconvert_exporter": "python",
   "pygments_lexer": "ipython3",
   "version": "3.8.5"
  }
 },
 "nbformat": 4,
 "nbformat_minor": 4
}
