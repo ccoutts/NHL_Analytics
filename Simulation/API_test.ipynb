{
 "cells": [
  {
   "cell_type": "code",
   "execution_count": 200,
   "metadata": {},
   "outputs": [],
   "source": [
    "import requests\n",
    "import pickle\n",
    "\n",
    "\n",
    "# Set up the API call variables to get season data\n",
    "game_data = [] # Empty, to be filled\n",
    "year = '2010' # Season of interest\n",
    "season_type = '02' # pre/regular/playoff (01/02/03)\n",
    "max_game_ID = 1290 # Max number of games in a year. "
   ]
  },
  {
   "cell_type": "code",
   "execution_count": 201,
   "metadata": {},
   "outputs": [],
   "source": [
    "# Make the call to the API, get the data and save the data\n",
    "# Note this is not a trivial cell. Load it only when necessary\n",
    "for i in range(1, 1290):\n",
    "    r = requests.get(url='http://statsapi.web.nhl.com/api/v1/game/'\n",
    "        + year + season_type +str(i).zfill(4)+'/feed/live')\n",
    "    data = r.json()\n",
    "    game_data.append(data)  "
   ]
  },
  {
   "cell_type": "code",
   "execution_count": 202,
   "metadata": {},
   "outputs": [],
   "source": [
    "# I guess for now we'll save it as a pkl even though I don't understand why\n",
    "\n",
    "\n",
    "with open('./'+year+'Test_Dataset.pkl', 'wb') as f:\n",
    "    pickle.dump(game_data, f, pickle.HIGHEST_PROTOCOL)"
   ]
  },
  {
   "cell_type": "code",
   "execution_count": 203,
   "metadata": {},
   "outputs": [],
   "source": [
    "# Follow along with this guys stuff to learn how data is stored in the API\n",
    "\n",
    "import numpy as np \n",
    "import pandas as pd \n",
    "\n",
    "with open('2010Test_Dataset.pkl', 'rb') as f:\n",
    "    game_data = pickle.load(f)"
   ]
  },
  {
   "cell_type": "code",
   "execution_count": 90,
   "metadata": {},
   "outputs": [
    {
     "data": {
      "text/plain": [
       "{'Shots': {'x': [], 'y': []}, 'Goals': {'x': [], 'y': []}}"
      ]
     },
     "execution_count": 90,
     "metadata": {},
     "output_type": "execute_result"
    }
   ],
   "source": [
    "# For this purpose we are interested in shots and goals. Make these event types\n",
    "# Make a dictionary also so that we can keep track of shot coordinates\n",
    "event_types = ['Shots', 'Goals']\n",
    "\n",
    "league_data = {}\n",
    "league_data['Shots'] = {}\n",
    "league_data['Shots']['x'] = []\n",
    "league_data['Shots']['y'] = []\n",
    "\n",
    "league_data['Goals'] = {}\n",
    "league_data['Goals']['x'] = []\n",
    "league_data['Goals']['y'] = []\n",
    "\n",
    "league_data"
   ]
  },
  {
   "cell_type": "code",
   "execution_count": 91,
   "metadata": {},
   "outputs": [],
   "source": [
    "for data in game_data:\n",
    "    if 'liveData' not in data: # This part checks teh data to be sure that it has what we want!\n",
    "        continue \n",
    "    plays = data['liveData']['plays']['allPlays']   #Get all the plays\n",
    "    for play in plays: #check each play\n",
    "        for event in event_types: # cycle through the desired events\n",
    "            if play['result']['event'] in [event]: # Check if the play matches the event\n",
    "                if 'x' in play['coordinates']: # Check that coordinates actually exist\n",
    "                    \n",
    "                    #Save it all\n",
    "                    league_data['event']['x'].append(play['coordinates']['x'])\n",
    "                    league_data['event']['y'].append(play['coordinates']['y'])"
   ]
  },
  {
   "cell_type": "code",
   "execution_count": 204,
   "metadata": {},
   "outputs": [],
   "source": [
    "\n",
    "games = []\n",
    "for data in game_data:\n",
    "    if 'liveData' not in data:\n",
    "        continue\n",
    "    home = data['liveData']['linescore']['teams']['home']['team']['abbreviation']\n",
    "    home_goals = data['liveData']['linescore']['teams']['home']['goals']\n",
    "    home_shots = data['liveData']['linescore']['teams']['home']['shotsOnGoal']\n",
    "    away = data['liveData']['linescore']['teams']['away']['team']['abbreviation']\n",
    "    away_goals = data['liveData']['linescore']['teams']['away']['goals']\n",
    "    away_shots = data['liveData']['linescore']['teams']['away']['shotsOnGoal']\n",
    "    games.append([home, away, home_shots, away_shots, home_goals, away_goals])        \n",
    "    #for i in data['liveData']['linescore']['teams']['home']['shotsOnGoal']:\n",
    "    #    print(i)"
   ]
  },
  {
   "cell_type": "code",
   "execution_count": 205,
   "metadata": {},
   "outputs": [],
   "source": [
    "# Save data as .csv\n",
    "col = ['home', 'away', 'home shots', 'away shots', 'home goals', 'away goals']\n",
    "df = pd.DataFrame(games)\n",
    "df.columns = col\n",
    "df.to_csv(\"data/NHL_20102011.csv\", sep=',',index=False)\n"
   ]
  },
  {
   "cell_type": "code",
   "execution_count": 1,
   "metadata": {},
   "outputs": [
    {
     "name": "stdout",
     "output_type": "stream",
     "text": [
      "14.722222222222221 1.1269701541722663\n"
     ]
    }
   ],
   "source": [
    "import numpy as np\n",
    "\n",
    "mean = np.mean([14.5, 15.5, 16.5, 14.5, 13.5, 13.25, 14.25, 16.5, 14])\n",
    "std = np.std([14.5, 15.5, 16.5, 14.5, 13.5, 13.25, 14.25, 16.5, 14])\n",
    "print(mean, std)"
   ]
  },
  {
   "cell_type": "code",
   "execution_count": null,
   "metadata": {},
   "outputs": [],
   "source": []
  }
 ],
 "metadata": {
  "kernelspec": {
   "display_name": "Python 3",
   "language": "python",
   "name": "python3"
  },
  "language_info": {
   "codemirror_mode": {
    "name": "ipython",
    "version": 3
   },
   "file_extension": ".py",
   "mimetype": "text/x-python",
   "name": "python",
   "nbconvert_exporter": "python",
   "pygments_lexer": "ipython3",
   "version": "3.8.5"
  }
 },
 "nbformat": 4,
 "nbformat_minor": 5
}
